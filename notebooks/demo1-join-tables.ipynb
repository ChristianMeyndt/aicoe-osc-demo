{
 "cells": [
  {
   "cell_type": "markdown",
   "id": "919d4200",
   "metadata": {},
   "source": [
    "# Data Manipulation\n",
    "\n",
    "The notebook shows how to join two tables on Trino to create a new table. Such a table can then be used for further analysis or for creating visualizations in Apache Superset."
   ]
  },
  {
   "cell_type": "code",
   "execution_count": 1,
   "id": "f35a5f07",
   "metadata": {},
   "outputs": [],
   "source": [
    "import os\n",
    "import pathlib\n",
    "from dotenv import load_dotenv\n",
    "import trino\n",
    "import pandas as pd"
   ]
  },
  {
   "cell_type": "markdown",
   "id": "e813abff",
   "metadata": {
    "tags": []
   },
   "source": [
    "### Injecting Credentials\n",
    "\n",
    "In order to run this notebook, we need credentials to connect with the Trino server to retrieve and create tables.\n",
    "\n",
    "In an automated environment, the credentials can be specified in a pipeline's environment variables or through Openshift secrets. \n",
    "\n",
    "For running the notebook in a local environment, we will define them as environment variables in a `credentials.env` file, and load them using dotenv. An example of what the contents of `credentials.env` could look like is shown below\n",
    "\n",
    "```\n",
    "# trino credentials\n",
    "TRINO_USER=xxx\n",
    "TRINO_PASSWD=xxx\n",
    "TRINO_HOST=trino-secure-odh-trino.apps.odh-cl1.apps.os-climate.org\n",
    "TRINO_PORT=443\n",
    "```"
   ]
  },
  {
   "cell_type": "code",
   "execution_count": 2,
   "id": "ded7d4a3",
   "metadata": {},
   "outputs": [],
   "source": [
    "# Load credentials\n",
    "dotenv_dir = os.environ.get(\n",
    "    \"CREDENTIAL_DOTENV_DIR\", os.environ.get(\"PWD\", \"/opt/app-root/src\")\n",
    ")\n",
    "dotenv_path = pathlib.Path(dotenv_dir) / \"credentials.env\"\n",
    "if os.path.exists(dotenv_path):\n",
    "    load_dotenv(dotenv_path=dotenv_path, override=True)"
   ]
  },
  {
   "cell_type": "markdown",
   "id": "27d37f15",
   "metadata": {},
   "source": [
    "# Join two tables on Trino"
   ]
  },
  {
   "cell_type": "code",
   "execution_count": 3,
   "id": "4b57e4eb",
   "metadata": {},
   "outputs": [],
   "source": [
    "# Create an Trino client\n",
    "conn = trino.dbapi.connect(\n",
    "    auth=trino.auth.BasicAuthentication(\n",
    "        os.environ[\"TRINO_USER\"], os.environ[\"TRINO_PASSWD\"]\n",
    "    ),\n",
    "    host=os.environ[\"TRINO_HOST\"],\n",
    "    port=int(os.environ[\"TRINO_PORT\"]),\n",
    "    http_scheme=\"https\",\n",
    "    verify=True,\n",
    ")\n",
    "cur = conn.cursor()"
   ]
  },
  {
   "cell_type": "code",
   "execution_count": 4,
   "id": "6d2b2a4d",
   "metadata": {},
   "outputs": [],
   "source": [
    "# Generate column names for df_emissions table\n",
    "# and remove isin column to avoid duplication\n",
    "# of key column in the join operation\n",
    "cur.execute(\"show columns from default.urgentem.itr_emissions_1\")\n",
    "res = cur.fetchall()\n",
    "df_columns = [i[0] for i in res]\n",
    "df_columns.remove(\"isin\")\n",
    "df_columns = [\"default.urgentem.itr_emissions_1.\" + i for i in df_columns]\n",
    "df_columns = \", \".join(df_columns)"
   ]
  },
  {
   "cell_type": "code",
   "execution_count": 5,
   "id": "075bc47d",
   "metadata": {},
   "outputs": [
    {
     "data": {
      "text/plain": [
       "'CREATE TABLE if not exists default.urgentem.itr_emissions_joined AS              SELECT default.urgentem.itr_emissions_2.*, default.urgentem.itr_emissions_1.company_name, default.urgentem.itr_emissions_1.target_type, default.urgentem.itr_emissions_1.scope, default.urgentem.itr_emissions_1.coverage_s1, default.urgentem.itr_emissions_1.coverage_s2, default.urgentem.itr_emissions_1.coverage_s3, default.urgentem.itr_emissions_1.reduction_ambition, default.urgentem.itr_emissions_1.base_year, default.urgentem.itr_emissions_1.end_year, default.urgentem.itr_emissions_1.start_year, default.urgentem.itr_emissions_1.base_year_ghg_emissions_s1_tco2e, default.urgentem.itr_emissions_1.base_year_ghg_emissions_s1s2_tco2e, default.urgentem.itr_emissions_1.base_year_ghg_emissions_s3_tco2e, default.urgentem.itr_emissions_1.achieved_reduction               FROM default.urgentem.itr_emissions_2               LEFT JOIN default.urgentem.itr_emissions_1               ON default.urgentem.itr_emissions_1.isin=default.urgentem.itr_emissions_2.isin'"
      ]
     },
     "execution_count": 5,
     "metadata": {},
     "output_type": "execute_result"
    }
   ],
   "source": [
    "# Write the join_query\n",
    "join_query = f\"CREATE TABLE if not exists default.urgentem.itr_emissions_joined AS\\\n",
    "              SELECT default.urgentem.itr_emissions_2.*, {df_columns} \\\n",
    "              FROM default.urgentem.itr_emissions_2 \\\n",
    "              LEFT JOIN default.urgentem.itr_emissions_1 \\\n",
    "              ON default.urgentem.itr_emissions_1.isin=default.urgentem.itr_emissions_2.isin\"\n",
    "join_query"
   ]
  },
  {
   "cell_type": "code",
   "execution_count": 6,
   "id": "941fe707",
   "metadata": {},
   "outputs": [
    {
     "data": {
      "text/plain": [
       "[[0]]"
      ]
     },
     "execution_count": 6,
     "metadata": {},
     "output_type": "execute_result"
    }
   ],
   "source": [
    "# Execute the join query\n",
    "cur.execute(join_query)\n",
    "cur.fetchall()"
   ]
  },
  {
   "cell_type": "code",
   "execution_count": 7,
   "id": "3cc4a9a0",
   "metadata": {},
   "outputs": [
    {
     "data": {
      "text/html": [
       "<div>\n",
       "<style scoped>\n",
       "    .dataframe tbody tr th:only-of-type {\n",
       "        vertical-align: middle;\n",
       "    }\n",
       "\n",
       "    .dataframe tbody tr th {\n",
       "        vertical-align: top;\n",
       "    }\n",
       "\n",
       "    .dataframe thead th {\n",
       "        text-align: right;\n",
       "    }\n",
       "</style>\n",
       "<table border=\"1\" class=\"dataframe\">\n",
       "  <thead>\n",
       "    <tr style=\"text-align: right;\">\n",
       "      <th></th>\n",
       "      <th>0</th>\n",
       "      <th>1</th>\n",
       "      <th>2</th>\n",
       "      <th>3</th>\n",
       "      <th>4</th>\n",
       "      <th>5</th>\n",
       "      <th>6</th>\n",
       "      <th>7</th>\n",
       "      <th>8</th>\n",
       "      <th>9</th>\n",
       "      <th>...</th>\n",
       "      <th>176</th>\n",
       "      <th>177</th>\n",
       "      <th>178</th>\n",
       "      <th>179</th>\n",
       "      <th>180</th>\n",
       "      <th>181</th>\n",
       "      <th>182</th>\n",
       "      <th>183</th>\n",
       "      <th>184</th>\n",
       "      <th>185</th>\n",
       "    </tr>\n",
       "  </thead>\n",
       "  <tbody>\n",
       "    <tr>\n",
       "      <th>0</th>\n",
       "      <td>BANCO SANTANDER</td>\n",
       "      <td>ES0113900J37</td>\n",
       "      <td>5705946</td>\n",
       "      <td>SAN SM</td>\n",
       "      <td>1</td>\n",
       "      <td>2</td>\n",
       "      <td>Spain</td>\n",
       "      <td>Europe</td>\n",
       "      <td>693.1</td>\n",
       "      <td>4.1</td>\n",
       "      <td>...</td>\n",
       "      <td>NaN</td>\n",
       "      <td>None</td>\n",
       "      <td>NaN</td>\n",
       "      <td>NaN</td>\n",
       "      <td>NaN</td>\n",
       "      <td>NaN</td>\n",
       "      <td>None</td>\n",
       "      <td>None</td>\n",
       "      <td>None</td>\n",
       "      <td>NaN</td>\n",
       "    </tr>\n",
       "    <tr>\n",
       "      <th>1</th>\n",
       "      <td>BARCLAYS PLC</td>\n",
       "      <td>GB0031348658</td>\n",
       "      <td>3134865</td>\n",
       "      <td>BARC LN</td>\n",
       "      <td>1</td>\n",
       "      <td>3</td>\n",
       "      <td>United Kingdom</td>\n",
       "      <td>Europe</td>\n",
       "      <td>709.2</td>\n",
       "      <td>9.7</td>\n",
       "      <td>...</td>\n",
       "      <td>1.0</td>\n",
       "      <td>None</td>\n",
       "      <td>0.37</td>\n",
       "      <td>2018.0</td>\n",
       "      <td>2025.0</td>\n",
       "      <td>2018.0</td>\n",
       "      <td>None</td>\n",
       "      <td>282,593</td>\n",
       "      <td>1,412,965</td>\n",
       "      <td>0.0</td>\n",
       "    </tr>\n",
       "    <tr>\n",
       "      <th>2</th>\n",
       "      <td>BAYER AG-REG</td>\n",
       "      <td>DE000BAY0017</td>\n",
       "      <td>5069211</td>\n",
       "      <td>BAYN GR</td>\n",
       "      <td>1</td>\n",
       "      <td>8</td>\n",
       "      <td>Germany</td>\n",
       "      <td>Europe</td>\n",
       "      <td>385.5</td>\n",
       "      <td>69.2</td>\n",
       "      <td>...</td>\n",
       "      <td>NaN</td>\n",
       "      <td>None</td>\n",
       "      <td>NaN</td>\n",
       "      <td>NaN</td>\n",
       "      <td>NaN</td>\n",
       "      <td>NaN</td>\n",
       "      <td>None</td>\n",
       "      <td>None</td>\n",
       "      <td>None</td>\n",
       "      <td>NaN</td>\n",
       "    </tr>\n",
       "    <tr>\n",
       "      <th>3</th>\n",
       "      <td>ENEL SPA</td>\n",
       "      <td>IT0003128367</td>\n",
       "      <td>7144569</td>\n",
       "      <td>ENEL IM</td>\n",
       "      <td>1</td>\n",
       "      <td>4</td>\n",
       "      <td>Italy</td>\n",
       "      <td>Europe</td>\n",
       "      <td>1557.4</td>\n",
       "      <td>1116.2</td>\n",
       "      <td>...</td>\n",
       "      <td>NaN</td>\n",
       "      <td>None</td>\n",
       "      <td>NaN</td>\n",
       "      <td>NaN</td>\n",
       "      <td>NaN</td>\n",
       "      <td>NaN</td>\n",
       "      <td>None</td>\n",
       "      <td>None</td>\n",
       "      <td>None</td>\n",
       "      <td>NaN</td>\n",
       "    </tr>\n",
       "    <tr>\n",
       "      <th>4</th>\n",
       "      <td>GAZPROM</td>\n",
       "      <td>RU0007661625</td>\n",
       "      <td>B59L4L7</td>\n",
       "      <td>GAZP RM</td>\n",
       "      <td>2</td>\n",
       "      <td>0</td>\n",
       "      <td>Russian Federation</td>\n",
       "      <td>Europe</td>\n",
       "      <td>6033.4</td>\n",
       "      <td>2003.8</td>\n",
       "      <td>...</td>\n",
       "      <td>NaN</td>\n",
       "      <td>None</td>\n",
       "      <td>NaN</td>\n",
       "      <td>NaN</td>\n",
       "      <td>NaN</td>\n",
       "      <td>NaN</td>\n",
       "      <td>None</td>\n",
       "      <td>None</td>\n",
       "      <td>None</td>\n",
       "      <td>NaN</td>\n",
       "    </tr>\n",
       "  </tbody>\n",
       "</table>\n",
       "<p>5 rows × 186 columns</p>\n",
       "</div>"
      ],
      "text/plain": [
       "               0             1        2        3    4    5    \\\n",
       "0  BANCO SANTANDER  ES0113900J37  5705946   SAN SM    1    2   \n",
       "1     BARCLAYS PLC  GB0031348658  3134865  BARC LN    1    3   \n",
       "2     BAYER AG-REG  DE000BAY0017  5069211  BAYN GR    1    8   \n",
       "3         ENEL SPA  IT0003128367  7144569  ENEL IM    1    4   \n",
       "4          GAZPROM  RU0007661625  B59L4L7  GAZP RM    2    0   \n",
       "\n",
       "                  6       7       8       9    ...  176   177   178     179  \\\n",
       "0               Spain  Europe   693.1     4.1  ...  NaN  None   NaN     NaN   \n",
       "1      United Kingdom  Europe   709.2     9.7  ...  1.0  None  0.37  2018.0   \n",
       "2             Germany  Europe   385.5    69.2  ...  NaN  None   NaN     NaN   \n",
       "3               Italy  Europe  1557.4  1116.2  ...  NaN  None   NaN     NaN   \n",
       "4  Russian Federation  Europe  6033.4  2003.8  ...  NaN  None   NaN     NaN   \n",
       "\n",
       "      180     181   182        183          184  185  \n",
       "0     NaN     NaN  None       None         None  NaN  \n",
       "1  2025.0  2018.0  None   282,593    1,412,965   0.0  \n",
       "2     NaN     NaN  None       None         None  NaN  \n",
       "3     NaN     NaN  None       None         None  NaN  \n",
       "4     NaN     NaN  None       None         None  NaN  \n",
       "\n",
       "[5 rows x 186 columns]"
      ]
     },
     "execution_count": 7,
     "metadata": {},
     "output_type": "execute_result"
    }
   ],
   "source": [
    "# Check if the joined table is there\n",
    "cur.execute(\"select * from default.urgentem.itr_emissions_joined LIMIT 5\")\n",
    "pd.DataFrame(cur.fetchall())"
   ]
  },
  {
   "cell_type": "markdown",
   "id": "816d0b03",
   "metadata": {},
   "source": [
    "# Conclusion\n",
    "\n",
    "In this notebook, we showed how to read from existing Trino tables and perform a basic join operation on them to create a new table. The table can now be used in a Superset dashboard for visualization. "
   ]
  }
 ],
 "metadata": {
  "kernelspec": {
   "display_name": "Python 3",
   "language": "python",
   "name": "python3"
  },
  "language_info": {
   "codemirror_mode": {
    "name": "ipython",
    "version": 3
   },
   "file_extension": ".py",
   "mimetype": "text/x-python",
   "name": "python",
   "nbconvert_exporter": "python",
   "pygments_lexer": "ipython3",
   "version": "3.7.3"
  }
 },
 "nbformat": 4,
 "nbformat_minor": 5
}
