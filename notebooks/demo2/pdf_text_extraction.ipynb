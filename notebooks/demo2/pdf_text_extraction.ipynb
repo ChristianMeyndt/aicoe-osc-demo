{
 "cells": [
  {
   "cell_type": "markdown",
   "metadata": {},
   "source": [
    "# Text Extraction\n",
    "As a first step of the pipeline, we aim to extract text from PDFs in this notebook. The input PDFs for this notebook is in the `ROOT/data/pdfs` directory and the output json will be stored in `ROOT/data/extract` directory. The output from this notebook combined with the annotations will be used in the next step of curation."
   ]
  },
  {
   "cell_type": "code",
   "execution_count": 1,
   "metadata": {},
   "outputs": [],
   "source": [
    "# Author: ALLIANZ NLP esg data pipeline\n",
    "from src.components.preprocessing import Extractor\n",
    "import config"
   ]
  },
  {
   "cell_type": "code",
   "execution_count": 2,
   "metadata": {},
   "outputs": [],
   "source": [
    "PDF_FOLDER = config.BASE_PDF_FOLDER\n",
    "EXT_FOLDER = config.BASE_EXTRACTION_FOLDER"
   ]
  },
  {
   "cell_type": "markdown",
   "metadata": {},
   "source": [
    "### Call text extracter"
   ]
  },
  {
   "cell_type": "code",
   "execution_count": 3,
   "metadata": {},
   "outputs": [],
   "source": [
    "PDFTextExtractor_kwargs = {\n",
    "    \"min_paragraph_length\": 30,\n",
    "    \"annotation_folder\": None,\n",
    "    \"skip_extracted_files\": False,\n",
    "}"
   ]
  },
  {
   "cell_type": "code",
   "execution_count": 4,
   "metadata": {},
   "outputs": [
    {
     "name": "stderr",
     "output_type": "stream",
     "text": [
      "Unable to get page count. Is poppler installed and in PATH?: Unable to process /opt/app-root/src/aicoe-osc-demo/data/pdfs/ESG/sustainability-report-2019.pdf\n"
     ]
    },
    {
     "name": "stdout",
     "output_type": "stream",
     "text": [
      "['/opt/app-root/src/aicoe-osc-demo/data/pdfs/ESG/sustainability-report-2019.pdf']\n"
     ]
    }
   ],
   "source": [
    "ext = Extractor([(\"PDFTextExtractor\", PDFTextExtractor_kwargs)])\n",
    "ext.run_folder(PDF_FOLDER, EXT_FOLDER)"
   ]
  },
  {
   "cell_type": "markdown",
   "metadata": {},
   "source": [
    "### Conclusion\n",
    "We called the Extractor class to extract text from the PDF and store the ouput in the `ROOT/data/extraction` folder."
   ]
  }
 ],
 "metadata": {
  "dependency_resolution_engine": "pipenv",
  "kernelspec": {
   "display_name": "Python 3 (ipykernel)",
   "language": "python",
   "name": "python3"
  },
  "language_info": {
   "codemirror_mode": {
    "name": "ipython",
    "version": 3
   },
   "file_extension": ".py",
   "mimetype": "text/x-python",
   "name": "python",
   "nbconvert_exporter": "python",
   "pygments_lexer": "ipython3",
   "version": "3.8.6"
  },
  "requirements": "{\"packages\":{\"config\":\"*\",\"src\":\"*\"},\"requires\":{\"python_version\":\"3.8\"},\"sources\":[{\"name\":\"pypi\",\"url\":\"https://pypi.org/simple\",\"verify_ssl\":true}]}",
  "requirements_lock": "{\"_meta\":{\"sources\":[{\"url\":\"https://pypi.org/simple\",\"verify_ssl\":true,\"name\":\"pypi\"}],\"requires\":{\"python_version\":\"3.8\"},\"hash\":{\"sha256\":\"e8a991415fecbbd714573539a77d69175edbedb517f135bd18e59629878bbc23\"},\"pipfile-spec\":6},\"default\":{\"config\":{\"version\":\"==0.5.1\",\"hashes\":[\"sha256:2dd4a03aa383d30711d5a3325a1858de225328d61950a85be5b74c100f63016d\",\"sha256:79ffa009ff2663cc8ca29e56bcec031c044609d4bafaa4f884132a413101ce84\"],\"index\":\"pypi\"},\"src\":{\"version\":\"==0.0.7\",\"hashes\":[\"sha256:2a33bd2995800b2d3fc80efb94a300951413e02ede94691aef58bffbd69e5b0e\"],\"index\":\"pypi\"}},\"develop\":{}}"
 },
 "nbformat": 4,
 "nbformat_minor": 4
}
